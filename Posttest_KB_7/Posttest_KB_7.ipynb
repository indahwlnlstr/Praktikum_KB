{
 "cells": [
  {
   "cell_type": "markdown",
   "metadata": {},
   "source": [
    "Indah Wulan Lestari\n",
    "\n",
    "2009106027"
   ]
  },
  {
   "cell_type": "code",
   "execution_count": 2,
   "metadata": {},
   "outputs": [],
   "source": [
    "import numpy as np\n",
    "import tensorflow as tf"
   ]
  },
  {
   "cell_type": "markdown",
   "metadata": {},
   "source": [
    "### Membuat tensor dengan shape(5,5) dengan menggunakan nilai random"
   ]
  },
  {
   "cell_type": "code",
   "execution_count": 4,
   "metadata": {},
   "outputs": [],
   "source": [
    "random_tensor = tf.random.normal([5,5], seed=1)"
   ]
  },
  {
   "cell_type": "code",
   "execution_count": 6,
   "metadata": {},
   "outputs": [
    {
     "data": {
      "text/plain": [
       "array([[-0.32386488,  0.99133694,  0.14024267,  1.2573972 ,  0.09992335],\n",
       "       [ 0.18983224, -0.28711194, -1.7413595 ,  1.8718754 , -2.0104504 ],\n",
       "       [-1.4673029 , -1.2721989 , -0.7803738 ,  0.94073033, -0.06164822],\n",
       "       [-2.0842526 ,  0.61423135, -1.451092  , -0.88693523, -0.96740866],\n",
       "       [ 0.94831836, -0.6974499 ,  0.5391437 , -0.52970064, -2.0105364 ]],\n",
       "      dtype=float32)"
      ]
     },
     "execution_count": 6,
     "metadata": {},
     "output_type": "execute_result"
    }
   ],
   "source": [
    "random_tensor.numpy()"
   ]
  },
  {
   "cell_type": "markdown",
   "metadata": {},
   "source": [
    "### Membuat tensor dengan shape (5,5) dari list dengan nilai bilangan prima dalam variabel tensor"
   ]
  },
  {
   "cell_type": "code",
   "execution_count": 9,
   "metadata": {},
   "outputs": [],
   "source": [
    "list1 = [2,3,5,7,11], [13,17, 19, 23, 29], [31, 37, 41, 43, 47], [53, 59, 61, 67, 71], [73, 79, 83, 89, 97]\n",
    "\n",
    "prime_tensor = tf.convert_to_tensor(list1, dtype = tf.float32)"
   ]
  },
  {
   "cell_type": "code",
   "execution_count": 10,
   "metadata": {},
   "outputs": [
    {
     "data": {
      "text/plain": [
       "array([[ 2.,  3.,  5.,  7., 11.],\n",
       "       [13., 17., 19., 23., 29.],\n",
       "       [31., 37., 41., 43., 47.],\n",
       "       [53., 59., 61., 67., 71.],\n",
       "       [73., 79., 83., 89., 97.]], dtype=float32)"
      ]
     },
     "execution_count": 10,
     "metadata": {},
     "output_type": "execute_result"
    }
   ],
   "source": [
    "prime_tensor.numpy()"
   ]
  },
  {
   "cell_type": "markdown",
   "metadata": {},
   "source": [
    "### Menampilkan Dimensi kedua variabel"
   ]
  },
  {
   "cell_type": "code",
   "execution_count": 12,
   "metadata": {},
   "outputs": [
    {
     "name": "stdout",
     "output_type": "stream",
     "text": [
      "Dimensi Pada Variabel Random :  (5, 5)\n",
      "Dimensi Pada Variabel Prima :  (5, 5)\n"
     ]
    }
   ],
   "source": [
    "print (\"Dimensi Pada Variabel Random : \", random_tensor.shape)\n",
    "print (\"Dimensi Pada Variabel Prima : \", prime_tensor.shape)"
   ]
  },
  {
   "cell_type": "markdown",
   "metadata": {},
   "source": [
    "### Tampilkan hasil dari perhitungan aritmetika 2 variable tersebut (Gunakan minimal 5 operator)"
   ]
  },
  {
   "cell_type": "markdown",
   "metadata": {},
   "source": [
    "* Penjumlahan"
   ]
  },
  {
   "cell_type": "code",
   "execution_count": 13,
   "metadata": {},
   "outputs": [
    {
     "name": "stdout",
     "output_type": "stream",
     "text": [
      "tf.Tensor(\n",
      "[[ 1.6761351  3.9913368  5.1402426  8.257397  11.099923 ]\n",
      " [13.189833  16.712889  17.25864   24.871876  26.98955  ]\n",
      " [29.532698  35.727802  40.219627  43.94073   46.93835  ]\n",
      " [50.91575   59.61423   59.54891   66.11307   70.03259  ]\n",
      " [73.94832   78.30255   83.53915   88.4703    94.98946  ]], shape=(5, 5), dtype=float32)\n"
     ]
    }
   ],
   "source": [
    "print(tf.add(random_tensor, prime_tensor))"
   ]
  },
  {
   "cell_type": "markdown",
   "metadata": {},
   "source": [
    "* Perkalian"
   ]
  },
  {
   "cell_type": "code",
   "execution_count": 14,
   "metadata": {},
   "outputs": [
    {
     "name": "stdout",
     "output_type": "stream",
     "text": [
      "tf.Tensor(\n",
      "[[  -0.64772975    2.974011      0.70121336    8.801781      1.0991569 ]\n",
      " [   2.4678192    -4.880903    -33.08583      43.053135    -58.303062  ]\n",
      " [ -45.48639     -47.07136     -31.995327     40.451405     -2.8974664 ]\n",
      " [-110.465385     36.23965     -88.51661     -59.42466     -68.68601   ]\n",
      " [  69.22724     -55.098545     44.748924    -47.143356   -195.02203   ]], shape=(5, 5), dtype=float32)\n"
     ]
    }
   ],
   "source": [
    "print(tf.multiply(random_tensor, prime_tensor))"
   ]
  },
  {
   "cell_type": "markdown",
   "metadata": {},
   "source": [
    "* Pengurangan"
   ]
  },
  {
   "cell_type": "code",
   "execution_count": 15,
   "metadata": {},
   "outputs": [
    {
     "name": "stdout",
     "output_type": "stream",
     "text": [
      "tf.Tensor(\n",
      "[[ -2.323865   -2.0086632  -4.8597574  -5.742603  -10.900077 ]\n",
      " [-12.810167  -17.287111  -20.74136   -21.128124  -31.01045  ]\n",
      " [-32.467304  -38.272198  -41.780373  -42.05927   -47.06165  ]\n",
      " [-55.08425   -58.38577   -62.45109   -67.88693   -71.96741  ]\n",
      " [-72.05168   -79.69745   -82.46085   -89.5297    -99.01054  ]], shape=(5, 5), dtype=float32)\n"
     ]
    }
   ],
   "source": [
    "print(tf.subtract(random_tensor, prime_tensor))"
   ]
  },
  {
   "cell_type": "markdown",
   "metadata": {},
   "source": [
    "* Pembagian"
   ]
  },
  {
   "cell_type": "code",
   "execution_count": 16,
   "metadata": {},
   "outputs": [
    {
     "name": "stdout",
     "output_type": "stream",
     "text": [
      "tf.Tensor(\n",
      "[[-0.16193244  0.33044565  0.02804853  0.17962816  0.00908394]\n",
      " [ 0.01460248 -0.01688894 -0.0916505   0.08138589 -0.06932587]\n",
      " [-0.04733235 -0.03438376 -0.01903351  0.02187745 -0.00131166]\n",
      " [-0.03932552  0.0104107  -0.02378839 -0.01323784 -0.01362547]\n",
      " [ 0.01299066 -0.00882848  0.00649571 -0.00595169 -0.02072718]], shape=(5, 5), dtype=float32)\n"
     ]
    }
   ],
   "source": [
    "print(tf.divide(random_tensor, prime_tensor))"
   ]
  },
  {
   "cell_type": "markdown",
   "metadata": {},
   "source": [
    "* Logaritma"
   ]
  },
  {
   "cell_type": "code",
   "execution_count": 18,
   "metadata": {},
   "outputs": [
    {
     "name": "stdout",
     "output_type": "stream",
     "text": [
      "tf.Tensor(\n",
      "[[        nan -0.0087008  -1.964381    0.22904386 -2.3033519 ]\n",
      " [-1.6616145          nan         nan  0.62694085         nan]\n",
      " [        nan         nan         nan -0.06109876         nan]\n",
      " [        nan -0.48738366         nan         nan         nan]\n",
      " [-0.05306501         nan -0.6177732          nan         nan]], shape=(5, 5), dtype=float32)\n"
     ]
    }
   ],
   "source": [
    "print(tf.math.log(random_tensor, prime_tensor))"
   ]
  },
  {
   "cell_type": "markdown",
   "metadata": {},
   "source": [
    "#### Tampilkan nilai maksimal dan minimal dari variable random_tensor"
   ]
  },
  {
   "cell_type": "markdown",
   "metadata": {},
   "source": [
    "* Menampilkan nilai maksimal dari variabel random tensor"
   ]
  },
  {
   "cell_type": "code",
   "execution_count": 20,
   "metadata": {},
   "outputs": [
    {
     "data": {
      "text/plain": [
       "array([4, 0, 4, 1, 0], dtype=int64)"
      ]
     },
     "execution_count": 20,
     "metadata": {},
     "output_type": "execute_result"
    }
   ],
   "source": [
    "tf.argmax(random_tensor, axis = 0).numpy()\n"
   ]
  },
  {
   "cell_type": "markdown",
   "metadata": {},
   "source": [
    "* Menampilkan nilai minimal dari variabel random"
   ]
  },
  {
   "cell_type": "code",
   "execution_count": 21,
   "metadata": {},
   "outputs": [
    {
     "data": {
      "text/plain": [
       "array([3, 2, 1, 3, 4], dtype=int64)"
      ]
     },
     "execution_count": 21,
     "metadata": {},
     "output_type": "execute_result"
    }
   ],
   "source": [
    "tf.argmin(random_tensor, axis=0).numpy()"
   ]
  },
  {
   "cell_type": "markdown",
   "metadata": {},
   "source": [
    "#### Tampilkan hasil dari penggabungan variable random_tensor dengan prime_tensor (concatenation)"
   ]
  },
  {
   "cell_type": "code",
   "execution_count": 24,
   "metadata": {},
   "outputs": [
    {
     "name": "stdout",
     "output_type": "stream",
     "text": [
      "Size original :  (5, 5) (5, 5)\n",
      "Size concatenated :  (10, 5)\n"
     ]
    }
   ],
   "source": [
    "print(\"Size original : \",random_tensor.shape,prime_tensor.shape)\n",
    "concated_tensor = tf.concat([random_tensor,prime_tensor],axis=0)\n",
    "print(\"Size concatenated : \",concated_tensor.shape)"
   ]
  },
  {
   "cell_type": "markdown",
   "metadata": {},
   "source": [
    "#### Tampilkan hasil sorting dari kedua variable di atas. (descending)"
   ]
  },
  {
   "cell_type": "markdown",
   "metadata": {},
   "source": [
    "* Random Tensor"
   ]
  },
  {
   "cell_type": "code",
   "execution_count": 28,
   "metadata": {},
   "outputs": [
    {
     "data": {
      "text/plain": [
       "array([[-0.32386488,  0.99133694,  0.14024267,  1.2573972 ,  0.09992335],\n",
       "       [ 0.18983224, -0.28711194, -1.7413595 ,  1.8718754 , -2.0104504 ],\n",
       "       [-1.4673029 , -1.2721989 , -0.7803738 ,  0.94073033, -0.06164822],\n",
       "       [-2.0842526 ,  0.61423135, -1.451092  , -0.88693523, -0.96740866],\n",
       "       [ 0.94831836, -0.6974499 ,  0.5391437 , -0.52970064, -2.0105364 ]],\n",
       "      dtype=float32)"
      ]
     },
     "execution_count": 28,
     "metadata": {},
     "output_type": "execute_result"
    }
   ],
   "source": [
    "random_tensor.numpy()"
   ]
  },
  {
   "cell_type": "code",
   "execution_count": 32,
   "metadata": {},
   "outputs": [
    {
     "data": {
      "text/plain": [
       "array([[ 1.2573972 ,  0.99133694,  0.14024267,  0.09992335, -0.32386488],\n",
       "       [ 1.8718754 ,  0.18983224, -0.28711194, -1.7413595 , -2.0104504 ],\n",
       "       [ 0.94073033, -0.06164822, -0.7803738 , -1.2721989 , -1.4673029 ],\n",
       "       [ 0.61423135, -0.88693523, -0.96740866, -1.451092  , -2.0842526 ],\n",
       "       [ 0.94831836,  0.5391437 , -0.52970064, -0.6974499 , -2.0105364 ]],\n",
       "      dtype=float32)"
      ]
     },
     "execution_count": 32,
     "metadata": {},
     "output_type": "execute_result"
    }
   ],
   "source": [
    "sort_random = tf.sort(random_tensor, direction=\"DESCENDING\")\n",
    "sort_random.numpy()"
   ]
  },
  {
   "cell_type": "code",
   "execution_count": 33,
   "metadata": {},
   "outputs": [
    {
     "data": {
      "text/plain": [
       "array([[11.,  7.,  5.,  3.,  2.],\n",
       "       [29., 23., 19., 17., 13.],\n",
       "       [47., 43., 41., 37., 31.],\n",
       "       [71., 67., 61., 59., 53.],\n",
       "       [97., 89., 83., 79., 73.]], dtype=float32)"
      ]
     },
     "execution_count": 33,
     "metadata": {},
     "output_type": "execute_result"
    }
   ],
   "source": [
    "sort_prime = tf.sort(prime_tensor, direction = \"DESCENDING\")\n",
    "sort_prime.numpy()"
   ]
  }
 ],
 "metadata": {
  "kernelspec": {
   "display_name": "Python 3.10.7 64-bit",
   "language": "python",
   "name": "python3"
  },
  "language_info": {
   "codemirror_mode": {
    "name": "ipython",
    "version": 3
   },
   "file_extension": ".py",
   "mimetype": "text/x-python",
   "name": "python",
   "nbconvert_exporter": "python",
   "pygments_lexer": "ipython3",
   "version": "3.10.7"
  },
  "orig_nbformat": 4,
  "vscode": {
   "interpreter": {
    "hash": "27f6fea6f47ae512550f0b8facdbd035a93e1dd89633f7bf2dd00a2502c71d0d"
   }
  }
 },
 "nbformat": 4,
 "nbformat_minor": 2
}
